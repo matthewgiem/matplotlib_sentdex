{
 "cells": [
  {
   "cell_type": "code",
   "execution_count": 53,
   "metadata": {},
   "outputs": [],
   "source": [
    "from mpl_toolkits.basemap import Basemap\n",
    "import matplotlib.pyplot as plt\n",
    "import pandas as pd\n",
    "import os\n",
    "import glob"
   ]
  },
  {
   "cell_type": "code",
   "execution_count": 55,
   "metadata": {},
   "outputs": [
    {
     "name": "stdout",
     "output_type": "stream",
     "text": [
      "Create Portland Maps.ipynb\n"
     ]
    }
   ],
   "source": [
    "for file in glob.glob('*Portland*'):\n",
    "    print(file)"
   ]
  },
  {
   "cell_type": "code",
   "execution_count": null,
   "metadata": {},
   "outputs": [],
   "source": []
  },
  {
   "cell_type": "code",
   "execution_count": null,
   "metadata": {},
   "outputs": [],
   "source": []
  },
  {
   "cell_type": "code",
   "execution_count": null,
   "metadata": {},
   "outputs": [],
   "source": []
  },
  {
   "cell_type": "code",
   "execution_count": null,
   "metadata": {},
   "outputs": [],
   "source": []
  },
  {
   "cell_type": "code",
   "execution_count": null,
   "metadata": {},
   "outputs": [],
   "source": []
  },
  {
   "cell_type": "code",
   "execution_count": 2,
   "metadata": {},
   "outputs": [],
   "source": [
    "df = pd.read_csv('mapping_coordinates.csv')"
   ]
  },
  {
   "cell_type": "code",
   "execution_count": 4,
   "metadata": {},
   "outputs": [
    {
     "data": {
      "text/html": [
       "<div>\n",
       "<style scoped>\n",
       "    .dataframe tbody tr th:only-of-type {\n",
       "        vertical-align: middle;\n",
       "    }\n",
       "\n",
       "    .dataframe tbody tr th {\n",
       "        vertical-align: top;\n",
       "    }\n",
       "\n",
       "    .dataframe thead th {\n",
       "        text-align: right;\n",
       "    }\n",
       "</style>\n",
       "<table border=\"1\" class=\"dataframe\">\n",
       "  <thead>\n",
       "    <tr style=\"text-align: right;\">\n",
       "      <th></th>\n",
       "      <th>Unnamed: 0</th>\n",
       "      <th>lastStopSeq</th>\n",
       "      <th>vehicle_location_longitude</th>\n",
       "      <th>vehicle_location_latitude</th>\n",
       "    </tr>\n",
       "  </thead>\n",
       "  <tbody>\n",
       "    <tr>\n",
       "      <th>0</th>\n",
       "      <td>0</td>\n",
       "      <td>1</td>\n",
       "      <td>-122.675518</td>\n",
       "      <td>45.526135</td>\n",
       "    </tr>\n",
       "    <tr>\n",
       "      <th>1</th>\n",
       "      <td>1</td>\n",
       "      <td>2</td>\n",
       "      <td>-122.675425</td>\n",
       "      <td>45.523522</td>\n",
       "    </tr>\n",
       "    <tr>\n",
       "      <th>2</th>\n",
       "      <td>2</td>\n",
       "      <td>3</td>\n",
       "      <td>-122.676156</td>\n",
       "      <td>45.521377</td>\n",
       "    </tr>\n",
       "    <tr>\n",
       "      <th>3</th>\n",
       "      <td>3</td>\n",
       "      <td>4</td>\n",
       "      <td>-122.677941</td>\n",
       "      <td>45.518067</td>\n",
       "    </tr>\n",
       "    <tr>\n",
       "      <th>4</th>\n",
       "      <td>4</td>\n",
       "      <td>5</td>\n",
       "      <td>-122.680419</td>\n",
       "      <td>45.513536</td>\n",
       "    </tr>\n",
       "    <tr>\n",
       "      <th>5</th>\n",
       "      <td>5</td>\n",
       "      <td>7</td>\n",
       "      <td>-122.683077</td>\n",
       "      <td>45.508826</td>\n",
       "    </tr>\n",
       "    <tr>\n",
       "      <th>6</th>\n",
       "      <td>6</td>\n",
       "      <td>6</td>\n",
       "      <td>-122.682921</td>\n",
       "      <td>45.509080</td>\n",
       "    </tr>\n",
       "    <tr>\n",
       "      <th>7</th>\n",
       "      <td>7</td>\n",
       "      <td>8</td>\n",
       "      <td>-122.675109</td>\n",
       "      <td>45.506181</td>\n",
       "    </tr>\n",
       "    <tr>\n",
       "      <th>8</th>\n",
       "      <td>8</td>\n",
       "      <td>9</td>\n",
       "      <td>-122.670613</td>\n",
       "      <td>45.502834</td>\n",
       "    </tr>\n",
       "    <tr>\n",
       "      <th>9</th>\n",
       "      <td>9</td>\n",
       "      <td>10</td>\n",
       "      <td>-122.661926</td>\n",
       "      <td>45.506468</td>\n",
       "    </tr>\n",
       "    <tr>\n",
       "      <th>10</th>\n",
       "      <td>10</td>\n",
       "      <td>11</td>\n",
       "      <td>-122.652921</td>\n",
       "      <td>45.502548</td>\n",
       "    </tr>\n",
       "    <tr>\n",
       "      <th>11</th>\n",
       "      <td>11</td>\n",
       "      <td>12</td>\n",
       "      <td>-122.648483</td>\n",
       "      <td>45.493522</td>\n",
       "    </tr>\n",
       "    <tr>\n",
       "      <th>12</th>\n",
       "      <td>12</td>\n",
       "      <td>13</td>\n",
       "      <td>-122.646322</td>\n",
       "      <td>45.485558</td>\n",
       "    </tr>\n",
       "    <tr>\n",
       "      <th>13</th>\n",
       "      <td>13</td>\n",
       "      <td>14</td>\n",
       "      <td>-122.639231</td>\n",
       "      <td>45.471413</td>\n",
       "    </tr>\n",
       "    <tr>\n",
       "      <th>14</th>\n",
       "      <td>14</td>\n",
       "      <td>15</td>\n",
       "      <td>-122.635627</td>\n",
       "      <td>45.456007</td>\n",
       "    </tr>\n",
       "    <tr>\n",
       "      <th>15</th>\n",
       "      <td>15</td>\n",
       "      <td>16</td>\n",
       "      <td>-122.641051</td>\n",
       "      <td>45.438486</td>\n",
       "    </tr>\n",
       "  </tbody>\n",
       "</table>\n",
       "</div>"
      ],
      "text/plain": [
       "    Unnamed: 0  lastStopSeq  vehicle_location_longitude  \\\n",
       "0            0            1                 -122.675518   \n",
       "1            1            2                 -122.675425   \n",
       "2            2            3                 -122.676156   \n",
       "3            3            4                 -122.677941   \n",
       "4            4            5                 -122.680419   \n",
       "5            5            7                 -122.683077   \n",
       "6            6            6                 -122.682921   \n",
       "7            7            8                 -122.675109   \n",
       "8            8            9                 -122.670613   \n",
       "9            9           10                 -122.661926   \n",
       "10          10           11                 -122.652921   \n",
       "11          11           12                 -122.648483   \n",
       "12          12           13                 -122.646322   \n",
       "13          13           14                 -122.639231   \n",
       "14          14           15                 -122.635627   \n",
       "15          15           16                 -122.641051   \n",
       "\n",
       "    vehicle_location_latitude  \n",
       "0                   45.526135  \n",
       "1                   45.523522  \n",
       "2                   45.521377  \n",
       "3                   45.518067  \n",
       "4                   45.513536  \n",
       "5                   45.508826  \n",
       "6                   45.509080  \n",
       "7                   45.506181  \n",
       "8                   45.502834  \n",
       "9                   45.506468  \n",
       "10                  45.502548  \n",
       "11                  45.493522  \n",
       "12                  45.485558  \n",
       "13                  45.471413  \n",
       "14                  45.456007  \n",
       "15                  45.438486  "
      ]
     },
     "execution_count": 4,
     "metadata": {},
     "output_type": "execute_result"
    }
   ],
   "source": [
    "df"
   ]
  },
  {
   "cell_type": "code",
   "execution_count": 5,
   "metadata": {},
   "outputs": [],
   "source": [
    "long = df['vehicle_location_longitude'].tolist()\n",
    "lat = df['vehicle_location_latitude'].tolist()\n",
    "lon_lat = []\n",
    "for y in range(len(lat)):\n",
    "    lon_lat.append([long[y], lat[y]])"
   ]
  },
  {
   "cell_type": "code",
   "execution_count": 6,
   "metadata": {},
   "outputs": [
    {
     "data": {
      "text/plain": [
       "[[-122.675518, 45.526135],\n",
       " [-122.675425, 45.523522],\n",
       " [-122.676156, 45.521377],\n",
       " [-122.67794099999999, 45.518066999999995],\n",
       " [-122.680419, 45.513536],\n",
       " [-122.683077, 45.508826],\n",
       " [-122.682921, 45.50908],\n",
       " [-122.675109, 45.506181],\n",
       " [-122.67061299999999, 45.502834],\n",
       " [-122.661926, 45.506468],\n",
       " [-122.65292099999999, 45.502548],\n",
       " [-122.64848300000001, 45.493522],\n",
       " [-122.646322, 45.48555800000001],\n",
       " [-122.63923100000001, 45.471413],\n",
       " [-122.635627, 45.456007],\n",
       " [-122.641051, 45.438486]]"
      ]
     },
     "execution_count": 6,
     "metadata": {},
     "output_type": "execute_result"
    }
   ],
   "source": [
    "lon_lat"
   ]
  },
  {
   "cell_type": "code",
   "execution_count": 52,
   "metadata": {},
   "outputs": [],
   "source": [
    "for x in range(len(lon_lat)):\n",
    "    m=Basemap(projection='mill',\n",
    "                llcrnrlat = 45.3,\n",
    "                llcrnrlon = -122.9,\n",
    "                urcrnrlat = 45.7,\n",
    "                urcrnrlon = -122.3,\n",
    "                resolution = 'f')\n",
    "    xpt, ypt = m(lon_lat[x][0], lon_lat[x][1])\n",
    "    plt.plot(xpt, ypt, 'c*', markersize=15)\n",
    "    m.drawrivers()\n",
    "    m.drawcoastlines()\n",
    "    \n",
    "    plt.title('Portland')\n",
    "    \n",
    "    filename = '{0:03}'.format(x) + '-Portland.png'\n",
    "    plt.savefig(filemae)\n",
    "    m=0\n",
    "    plt.close()"
   ]
  },
  {
   "cell_type": "code",
   "execution_count": null,
   "metadata": {},
   "outputs": [],
   "source": []
  },
  {
   "cell_type": "code",
   "execution_count": null,
   "metadata": {},
   "outputs": [],
   "source": [
    "# run in terminal\n",
    "!for i in *.png; do sips -s format jpeg -s formatOptions 70 \"${i}\" --out \"${i%png}jpg\"; done"
   ]
  },
  {
   "cell_type": "code",
   "execution_count": null,
   "metadata": {},
   "outputs": [],
   "source": [
    "files = []\n",
    "for file in glob.glob('*.jpg'):\n",
    "    files.append(file)"
   ]
  },
  {
   "cell_type": "code",
   "execution_count": null,
   "metadata": {},
   "outputs": [],
   "source": [
    "files.sort()"
   ]
  },
  {
   "cell_type": "code",
   "execution_count": null,
   "metadata": {},
   "outputs": [],
   "source": [
    "files"
   ]
  },
  {
   "cell_type": "code",
   "execution_count": null,
   "metadata": {},
   "outputs": [],
   "source": [
    "output = 'convert -delay 60 -loop 0'\n",
    "for file in files:\n",
    "    output += ' ' + file\n",
    "output += ' second.gif'"
   ]
  },
  {
   "cell_type": "code",
   "execution_count": null,
   "metadata": {},
   "outputs": [],
   "source": [
    "output"
   ]
  },
  {
   "cell_type": "code",
   "execution_count": null,
   "metadata": {},
   "outputs": [],
   "source": []
  }
 ],
 "metadata": {
  "kernelspec": {
   "display_name": "Python 3",
   "language": "python",
   "name": "python3"
  },
  "language_info": {
   "codemirror_mode": {
    "name": "ipython",
    "version": 3
   },
   "file_extension": ".py",
   "mimetype": "text/x-python",
   "name": "python",
   "nbconvert_exporter": "python",
   "pygments_lexer": "ipython3",
   "version": "3.7.1"
  }
 },
 "nbformat": 4,
 "nbformat_minor": 2
}
