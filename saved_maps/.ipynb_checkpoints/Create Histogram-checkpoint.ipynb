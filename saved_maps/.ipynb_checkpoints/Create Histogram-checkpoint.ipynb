{
 "cells": [
  {
   "cell_type": "code",
   "execution_count": 2,
   "metadata": {},
   "outputs": [],
   "source": [
    "import glob"
   ]
  },
  {
   "cell_type": "code",
   "execution_count": 5,
   "metadata": {},
   "outputs": [
    {
     "name": "stdout",
     "output_type": "stream",
     "text": [
      "portland2.jpg\n",
      "portland3.jpg\n",
      "portland1.jpg\n",
      "portland0.jpg\n",
      "portland4.jpg\n",
      "portland5.jpg\n",
      "portland7.jpg\n",
      "portland6.jpg\n",
      "portland14.jpg\n",
      "portland15.jpg\n",
      "portland11.jpg\n",
      "portland10.jpg\n",
      "portland12.jpg\n",
      "portland13.jpg\n",
      "portland8.jpg\n",
      "portland9.jpg\n"
     ]
    }
   ],
   "source": [
    "\n",
    "for file in glob.glob('portland*.jpg'):\n",
    "    print(file)"
   ]
  },
  {
   "cell_type": "code",
   "execution_count": null,
   "metadata": {},
   "outputs": [],
   "source": []
  },
  {
   "cell_type": "code",
   "execution_count": null,
   "metadata": {},
   "outputs": [],
   "source": []
  },
  {
   "cell_type": "code",
   "execution_count": null,
   "metadata": {},
   "outputs": [],
   "source": []
  }
 ],
 "metadata": {
  "kernelspec": {
   "display_name": "Python 3",
   "language": "python",
   "name": "python3"
  },
  "language_info": {
   "codemirror_mode": {
    "name": "ipython",
    "version": 3
   },
   "file_extension": ".py",
   "mimetype": "text/x-python",
   "name": "python",
   "nbconvert_exporter": "python",
   "pygments_lexer": "ipython3",
   "version": "3.7.1"
  }
 },
 "nbformat": 4,
 "nbformat_minor": 2
}
