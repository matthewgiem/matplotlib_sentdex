{
 "cells": [
  {
   "cell_type": "code",
   "execution_count": 9,
   "metadata": {},
   "outputs": [],
   "source": [
    "import glob\n",
    "import os"
   ]
  },
  {
   "cell_type": "code",
   "execution_count": 15,
   "metadata": {},
   "outputs": [],
   "source": [
    "# completed\n",
    "# files = []\n",
    "# for file in glob.glob('portland*.jpg'):\n",
    "#     if len(file.split('d')[1].split('.')[0]) == 1:\n",
    "#         os.rename(file, '0'+file.split('d')[1].split('.')[0]+'portland.jpg')\n",
    "#     else:\n",
    "#         os.rename(file, file.split('d')[1].split('.')[0]+'portland.jpg')\n"
   ]
  },
  {
   "cell_type": "code",
   "execution_count": 16,
   "metadata": {},
   "outputs": [],
   "source": [
    "files = []\n",
    "for file in glob.glob('*.jpg'):\n",
    "    files.append(file)"
   ]
  },
  {
   "cell_type": "code",
   "execution_count": 17,
   "metadata": {},
   "outputs": [
    {
     "data": {
      "text/plain": [
       "['02portland.jpg',\n",
       " '07portland.jpg',\n",
       " '12portland.jpg',\n",
       " '11portland.jpg',\n",
       " '04portland.jpg',\n",
       " '01portland.jpg',\n",
       " '08portland.jpg',\n",
       " '14portland.jpg',\n",
       " '13portland.jpg',\n",
       " '06portland.jpg',\n",
       " '03portland.jpg',\n",
       " '15portland.jpg',\n",
       " '09portland.jpg',\n",
       " '00portland.jpg',\n",
       " '05portland.jpg',\n",
       " '10portland.jpg']"
      ]
     },
     "execution_count": 17,
     "metadata": {},
     "output_type": "execute_result"
    }
   ],
   "source": [
    "files"
   ]
  },
  {
   "cell_type": "code",
   "execution_count": null,
   "metadata": {},
   "outputs": [],
   "source": []
  }
 ],
 "metadata": {
  "kernelspec": {
   "display_name": "Python 3",
   "language": "python",
   "name": "python3"
  },
  "language_info": {
   "codemirror_mode": {
    "name": "ipython",
    "version": 3
   },
   "file_extension": ".py",
   "mimetype": "text/x-python",
   "name": "python",
   "nbconvert_exporter": "python",
   "pygments_lexer": "ipython3",
   "version": "3.7.1"
  }
 },
 "nbformat": 4,
 "nbformat_minor": 2
}
