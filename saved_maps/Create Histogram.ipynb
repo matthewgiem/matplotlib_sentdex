{
 "cells": [
  {
   "cell_type": "code",
   "execution_count": 11,
   "metadata": {},
   "outputs": [],
   "source": [
    "import glob\n",
    "import os"
   ]
  },
  {
   "cell_type": "code",
   "execution_count": 12,
   "metadata": {},
   "outputs": [
    {
     "name": "stdout",
     "output_type": "stream",
     "text": [
      "/Users/matthewgiem/Desktop/Programming Projects/python/Sentdex/Matplotlib_Tutorial/saved_maps/000-Portland.png\n",
      "  /Users/matthewgiem/Desktop/Programming Projects/python/Sentdex/Matplotlib_Tutorial/saved_maps/000-Portland.jpg\n",
      "/Users/matthewgiem/Desktop/Programming Projects/python/Sentdex/Matplotlib_Tutorial/saved_maps/001-Portland.png\n",
      "  /Users/matthewgiem/Desktop/Programming Projects/python/Sentdex/Matplotlib_Tutorial/saved_maps/001-Portland.jpg\n",
      "/Users/matthewgiem/Desktop/Programming Projects/python/Sentdex/Matplotlib_Tutorial/saved_maps/002-Portland.png\n",
      "  /Users/matthewgiem/Desktop/Programming Projects/python/Sentdex/Matplotlib_Tutorial/saved_maps/002-Portland.jpg\n",
      "/Users/matthewgiem/Desktop/Programming Projects/python/Sentdex/Matplotlib_Tutorial/saved_maps/003-Portland.png\n",
      "  /Users/matthewgiem/Desktop/Programming Projects/python/Sentdex/Matplotlib_Tutorial/saved_maps/003-Portland.jpg\n",
      "/Users/matthewgiem/Desktop/Programming Projects/python/Sentdex/Matplotlib_Tutorial/saved_maps/004-Portland.png\n",
      "  /Users/matthewgiem/Desktop/Programming Projects/python/Sentdex/Matplotlib_Tutorial/saved_maps/004-Portland.jpg\n",
      "/Users/matthewgiem/Desktop/Programming Projects/python/Sentdex/Matplotlib_Tutorial/saved_maps/005-Portland.png\n",
      "  /Users/matthewgiem/Desktop/Programming Projects/python/Sentdex/Matplotlib_Tutorial/saved_maps/005-Portland.jpg\n",
      "/Users/matthewgiem/Desktop/Programming Projects/python/Sentdex/Matplotlib_Tutorial/saved_maps/006-Portland.png\n",
      "  /Users/matthewgiem/Desktop/Programming Projects/python/Sentdex/Matplotlib_Tutorial/saved_maps/006-Portland.jpg\n",
      "/Users/matthewgiem/Desktop/Programming Projects/python/Sentdex/Matplotlib_Tutorial/saved_maps/007-Portland.png\n",
      "  /Users/matthewgiem/Desktop/Programming Projects/python/Sentdex/Matplotlib_Tutorial/saved_maps/007-Portland.jpg\n",
      "/Users/matthewgiem/Desktop/Programming Projects/python/Sentdex/Matplotlib_Tutorial/saved_maps/008-Portland.png\n",
      "  /Users/matthewgiem/Desktop/Programming Projects/python/Sentdex/Matplotlib_Tutorial/saved_maps/008-Portland.jpg\n",
      "/Users/matthewgiem/Desktop/Programming Projects/python/Sentdex/Matplotlib_Tutorial/saved_maps/009-Portland.png\n",
      "  /Users/matthewgiem/Desktop/Programming Projects/python/Sentdex/Matplotlib_Tutorial/saved_maps/009-Portland.jpg\n",
      "/Users/matthewgiem/Desktop/Programming Projects/python/Sentdex/Matplotlib_Tutorial/saved_maps/010-Portland.png\n",
      "  /Users/matthewgiem/Desktop/Programming Projects/python/Sentdex/Matplotlib_Tutorial/saved_maps/010-Portland.jpg\n",
      "/Users/matthewgiem/Desktop/Programming Projects/python/Sentdex/Matplotlib_Tutorial/saved_maps/011-Portland.png\n",
      "  /Users/matthewgiem/Desktop/Programming Projects/python/Sentdex/Matplotlib_Tutorial/saved_maps/011-Portland.jpg\n",
      "/Users/matthewgiem/Desktop/Programming Projects/python/Sentdex/Matplotlib_Tutorial/saved_maps/012-Portland.png\n",
      "  /Users/matthewgiem/Desktop/Programming Projects/python/Sentdex/Matplotlib_Tutorial/saved_maps/012-Portland.jpg\n",
      "/Users/matthewgiem/Desktop/Programming Projects/python/Sentdex/Matplotlib_Tutorial/saved_maps/013-Portland.png\n",
      "  /Users/matthewgiem/Desktop/Programming Projects/python/Sentdex/Matplotlib_Tutorial/saved_maps/013-Portland.jpg\n",
      "/Users/matthewgiem/Desktop/Programming Projects/python/Sentdex/Matplotlib_Tutorial/saved_maps/014-Portland.png\n",
      "  /Users/matthewgiem/Desktop/Programming Projects/python/Sentdex/Matplotlib_Tutorial/saved_maps/014-Portland.jpg\n",
      "/Users/matthewgiem/Desktop/Programming Projects/python/Sentdex/Matplotlib_Tutorial/saved_maps/015-Portland.png\n",
      "  /Users/matthewgiem/Desktop/Programming Projects/python/Sentdex/Matplotlib_Tutorial/saved_maps/015-Portland.jpg\n"
     ]
    }
   ],
   "source": [
    "# run in terminal\n",
    "!for i in *.png; do sips -s format jpeg -s formatOptions 70 \"${i}\" --out \"${i%png}jpg\"; done"
   ]
  },
  {
   "cell_type": "code",
   "execution_count": 13,
   "metadata": {},
   "outputs": [],
   "source": [
    "files = []\n",
    "for file in glob.glob('*.jpg'):\n",
    "    files.append(file)"
   ]
  },
  {
   "cell_type": "code",
   "execution_count": 14,
   "metadata": {},
   "outputs": [],
   "source": [
    "files.sort()"
   ]
  },
  {
   "cell_type": "code",
   "execution_count": 15,
   "metadata": {
    "scrolled": true
   },
   "outputs": [
    {
     "data": {
      "text/plain": [
       "['000-Portland.jpg',\n",
       " '001-Portland.jpg',\n",
       " '002-Portland.jpg',\n",
       " '003-Portland.jpg',\n",
       " '004-Portland.jpg',\n",
       " '005-Portland.jpg',\n",
       " '006-Portland.jpg',\n",
       " '007-Portland.jpg',\n",
       " '008-Portland.jpg',\n",
       " '009-Portland.jpg',\n",
       " '010-Portland.jpg',\n",
       " '011-Portland.jpg',\n",
       " '012-Portland.jpg',\n",
       " '013-Portland.jpg',\n",
       " '014-Portland.jpg',\n",
       " '015-Portland.jpg']"
      ]
     },
     "execution_count": 15,
     "metadata": {},
     "output_type": "execute_result"
    }
   ],
   "source": [
    "files"
   ]
  },
  {
   "cell_type": "code",
   "execution_count": 16,
   "metadata": {},
   "outputs": [],
   "source": [
    "output = 'convert -delay 60 -loop 0'\n",
    "for file in files:\n",
    "    output += ' ' + file\n",
    "output += ' second.gif'"
   ]
  },
  {
   "cell_type": "code",
   "execution_count": 17,
   "metadata": {},
   "outputs": [
    {
     "data": {
      "text/plain": [
       "'convert -delay 60 -loop 0 000-Portland.jpg 001-Portland.jpg 002-Portland.jpg 003-Portland.jpg 004-Portland.jpg 005-Portland.jpg 006-Portland.jpg 007-Portland.jpg 008-Portland.jpg 009-Portland.jpg 010-Portland.jpg 011-Portland.jpg 012-Portland.jpg 013-Portland.jpg 014-Portland.jpg 015-Portland.jpg second.gif'"
      ]
     },
     "execution_count": 17,
     "metadata": {},
     "output_type": "execute_result"
    }
   ],
   "source": [
    "output"
   ]
  },
  {
   "cell_type": "code",
   "execution_count": 18,
   "metadata": {},
   "outputs": [],
   "source": [
    "# what is to be run in the consol\n",
    "!convert -delay 60 -loop 0 000-Portland.jpg 001-Portland.jpg 002-Portland.jpg 003-Portland.jpg 004-Portland.jpg 005-Portland.jpg 006-Portland.jpg 007-Portland.jpg 008-Portland.jpg 009-Portland.jpg 010-Portland.jpg 011-Portland.jpg 012-Portland.jpg 013-Portland.jpg 014-Portland.jpg 015-Portland.jpg second.gif"
   ]
  },
  {
   "cell_type": "code",
   "execution_count": 10,
   "metadata": {},
   "outputs": [
    {
     "name": "stdout",
     "output_type": "stream",
     "text": [
      "/Users/matthewgiem/Desktop/Programming Projects/python/Sentdex/Matplotlib_Tutorial/saved_maps\r\n"
     ]
    }
   ],
   "source": []
  },
  {
   "cell_type": "code",
   "execution_count": null,
   "metadata": {},
   "outputs": [],
   "source": []
  }
 ],
 "metadata": {
  "kernelspec": {
   "display_name": "Python 3",
   "language": "python",
   "name": "python3"
  },
  "language_info": {
   "codemirror_mode": {
    "name": "ipython",
    "version": 3
   },
   "file_extension": ".py",
   "mimetype": "text/x-python",
   "name": "python",
   "nbconvert_exporter": "python",
   "pygments_lexer": "ipython3",
   "version": "3.7.1"
  }
 },
 "nbformat": 4,
 "nbformat_minor": 2
}
