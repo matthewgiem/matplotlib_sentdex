{
 "cells": [
  {
   "cell_type": "code",
   "execution_count": 23,
   "metadata": {},
   "outputs": [],
   "source": [
    "from mpl_toolkits.basemap import Basemap\n",
    "import matplotlib.pyplot as plt\n",
    "import pandas as pd\n",
    "import os\n",
    "import glob\n",
    "from IPython.display import HTML"
   ]
  },
  {
   "cell_type": "code",
   "execution_count": 17,
   "metadata": {},
   "outputs": [],
   "source": [
    "for file in glob.glob('0*Portland*'):\n",
    "    print(file)"
   ]
  },
  {
   "cell_type": "code",
   "execution_count": 15,
   "metadata": {},
   "outputs": [],
   "source": [
    "for file in glob.glob('0*Portland*'):\n",
    "    os.remove(file)"
   ]
  },
  {
   "cell_type": "code",
   "execution_count": 16,
   "metadata": {},
   "outputs": [],
   "source": [
    "for file in glob.glob('0*Portland*'):\n",
    "    print(file)"
   ]
  },
  {
   "cell_type": "code",
   "execution_count": 24,
   "metadata": {},
   "outputs": [],
   "source": [
    "df = pd.read_csv('large_gif_data.csv')"
   ]
  },
  {
   "cell_type": "code",
   "execution_count": 25,
   "metadata": {},
   "outputs": [
    {
     "data": {
      "text/html": [
       "<div>\n",
       "<style scoped>\n",
       "    .dataframe tbody tr th:only-of-type {\n",
       "        vertical-align: middle;\n",
       "    }\n",
       "\n",
       "    .dataframe tbody tr th {\n",
       "        vertical-align: top;\n",
       "    }\n",
       "\n",
       "    .dataframe thead th {\n",
       "        text-align: right;\n",
       "    }\n",
       "</style>\n",
       "<table border=\"1\" class=\"dataframe\">\n",
       "  <thead>\n",
       "    <tr style=\"text-align: right;\">\n",
       "      <th></th>\n",
       "      <th>Unnamed: 0</th>\n",
       "      <th>lastStopSeq</th>\n",
       "      <th>vehicle_location_longitude</th>\n",
       "      <th>vehicle_location_latitude</th>\n",
       "      <th>datetime</th>\n",
       "    </tr>\n",
       "  </thead>\n",
       "  <tbody>\n",
       "    <tr>\n",
       "      <th>0</th>\n",
       "      <td>65</td>\n",
       "      <td>15</td>\n",
       "      <td>-122.636496</td>\n",
       "      <td>45.459794</td>\n",
       "      <td>2017-01-01 00:00:58</td>\n",
       "    </tr>\n",
       "    <tr>\n",
       "      <th>1</th>\n",
       "      <td>156</td>\n",
       "      <td>16</td>\n",
       "      <td>-122.641051</td>\n",
       "      <td>45.438486</td>\n",
       "      <td>2017-01-01 00:04:31</td>\n",
       "    </tr>\n",
       "    <tr>\n",
       "      <th>2</th>\n",
       "      <td>875</td>\n",
       "      <td>1</td>\n",
       "      <td>-122.635118</td>\n",
       "      <td>45.430730</td>\n",
       "      <td>2017-01-01 00:29:09</td>\n",
       "    </tr>\n",
       "    <tr>\n",
       "      <th>3</th>\n",
       "      <td>963</td>\n",
       "      <td>2</td>\n",
       "      <td>-122.639230</td>\n",
       "      <td>45.442634</td>\n",
       "      <td>2017-01-01 00:32:38</td>\n",
       "    </tr>\n",
       "    <tr>\n",
       "      <th>4</th>\n",
       "      <td>1069</td>\n",
       "      <td>3</td>\n",
       "      <td>-122.637924</td>\n",
       "      <td>45.464975</td>\n",
       "      <td>2017-01-01 00:35:57</td>\n",
       "    </tr>\n",
       "  </tbody>\n",
       "</table>\n",
       "</div>"
      ],
      "text/plain": [
       "   Unnamed: 0  lastStopSeq  vehicle_location_longitude  \\\n",
       "0          65           15                 -122.636496   \n",
       "1         156           16                 -122.641051   \n",
       "2         875            1                 -122.635118   \n",
       "3         963            2                 -122.639230   \n",
       "4        1069            3                 -122.637924   \n",
       "\n",
       "   vehicle_location_latitude             datetime  \n",
       "0                  45.459794  2017-01-01 00:00:58  \n",
       "1                  45.438486  2017-01-01 00:04:31  \n",
       "2                  45.430730  2017-01-01 00:29:09  \n",
       "3                  45.442634  2017-01-01 00:32:38  \n",
       "4                  45.464975  2017-01-01 00:35:57  "
      ]
     },
     "execution_count": 25,
     "metadata": {},
     "output_type": "execute_result"
    }
   ],
   "source": [
    "df.head()"
   ]
  },
  {
   "cell_type": "code",
   "execution_count": 27,
   "metadata": {},
   "outputs": [],
   "source": [
    "long = df['vehicle_location_longitude'].tolist()\n",
    "lat = df['vehicle_location_latitude'].tolist()\n",
    "lon_lat = []\n",
    "for y in range(len(lat)):\n",
    "    lon_lat.append([long[y], lat[y]])"
   ]
  },
  {
   "cell_type": "code",
   "execution_count": 28,
   "metadata": {},
   "outputs": [
    {
     "data": {
      "text/plain": [
       "[[-122.636496, 45.459794],\n",
       " [-122.641051, 45.438486],\n",
       " [-122.63511799999999, 45.43073],\n",
       " [-122.63923, 45.44263400000001],\n",
       " [-122.637924, 45.464975],\n",
       " [-122.640522, 45.477247],\n",
       " [-122.648344, 45.495573],\n",
       " [-122.65033700000001, 45.501202],\n",
       " [-122.655281, 45.503979],\n",
       " [-122.663004, 45.506640000000004]]"
      ]
     },
     "execution_count": 28,
     "metadata": {},
     "output_type": "execute_result"
    }
   ],
   "source": [
    "lon_lat[0:10]"
   ]
  },
  {
   "cell_type": "code",
   "execution_count": 57,
   "metadata": {},
   "outputs": [],
   "source": [
    "for x in range(len(lon_lat)):\n",
    "    m=Basemap(projection='mill',\n",
    "                llcrnrlat = 45.3,\n",
    "                llcrnrlon = -122.9,\n",
    "                urcrnrlat = 45.7,\n",
    "                urcrnrlon = -122.3,\n",
    "                resolution = 'l')\n",
    "    xpt, ypt = m(lon_lat[x][0], lon_lat[x][1])\n",
    "    plt.plot(xpt, ypt, 'c*', markersize=15)\n",
    "    m.drawrivers()\n",
    "    m.drawcoastlines()\n",
    "    \n",
    "    plt.title('Portland')\n",
    "    \n",
    "    filename = '{0:05}'.format(x) + '-Portland.png'\n",
    "    plt.savefig(filename)\n",
    "    m=0\n",
    "    plt.close()"
   ]
  },
  {
   "cell_type": "code",
   "execution_count": 31,
   "metadata": {},
   "outputs": [],
   "source": [
    "# run in terminal\n",
    "string = '!for i in *.png; do sips -s format jpeg -s formatOptions 70 \"${i}\" --out \"${i%png}jpg\"; done'\n"
   ]
  },
  {
   "cell_type": "code",
   "execution_count": 29,
   "metadata": {},
   "outputs": [
    {
     "name": "stdout",
     "output_type": "stream",
     "text": [
      "Warning: *.png not a valid file - skipping\r\n",
      "Error 4: no file was specified\r\n",
      "Try 'sips --help' for help using this tool\r\n"
     ]
    }
   ],
   "source": [
    "!for i in *.png; do sips -s format jpeg -s formatOptions 70 \"${i}\" --out \"${i%png}jpg\"; done\n"
   ]
  },
  {
   "cell_type": "code",
   "execution_count": 4,
   "metadata": {},
   "outputs": [],
   "source": [
    "# %%bash -c 'for i in *.png; do sips -s format jpeg -s formatOptions 70 \"${i}\" --out \"${i%png}jpg\"; done'\n",
    "# random word"
   ]
  },
  {
   "cell_type": "code",
   "execution_count": 31,
   "metadata": {},
   "outputs": [],
   "source": [
    "files = []\n",
    "for file in glob.glob('*.jpg'):\n",
    "    files.append(file)"
   ]
  },
  {
   "cell_type": "code",
   "execution_count": 32,
   "metadata": {},
   "outputs": [],
   "source": [
    "files.sort()"
   ]
  },
  {
   "cell_type": "code",
   "execution_count": 33,
   "metadata": {},
   "outputs": [
    {
     "data": {
      "text/plain": [
       "[]"
      ]
     },
     "execution_count": 33,
     "metadata": {},
     "output_type": "execute_result"
    }
   ],
   "source": [
    "files"
   ]
  },
  {
   "cell_type": "code",
   "execution_count": 8,
   "metadata": {},
   "outputs": [],
   "source": [
    "output = 'convert -delay 60 -loop 0'\n",
    "for file in files:\n",
    "    output += ' ' + file\n",
    "output += ' fourth.gif'"
   ]
  },
  {
   "cell_type": "code",
   "execution_count": 18,
   "metadata": {},
   "outputs": [
    {
     "name": "stdout",
     "output_type": "stream",
     "text": [
      "Create Histogram.ipynb     onemonth.gif\r\n",
      "Create Portland Maps.ipynb quick.gif\r\n",
      "first.gif                  quicker.gif\r\n",
      "large_gif_data.csv         second.gif\r\n",
      "mapping_coordinates.csv\r\n"
     ]
    }
   ],
   "source": [
    "!ls"
   ]
  },
  {
   "cell_type": "code",
   "execution_count": 22,
   "metadata": {},
   "outputs": [
    {
     "name": "stdout",
     "output_type": "stream",
     "text": [
      "/bin/sh: -c: line 0: syntax error near unexpected token `quicker.gif'\r\n",
      "/bin/sh: -c: line 0: `[SegmentLocal](quicker.gif \"segment\")'\r\n"
     ]
    }
   ],
   "source": [
    "![SegmentLocal](quicker.gif \"segment\")"
   ]
  },
  {
   "cell_type": "code",
   "execution_count": 36,
   "metadata": {},
   "outputs": [
    {
     "data": {
      "text/html": [
       "<img src=\"quicker.gif\">"
      ],
      "text/plain": [
       "<IPython.core.display.HTML object>"
      ]
     },
     "execution_count": 36,
     "metadata": {},
     "output_type": "execute_result"
    }
   ],
   "source": [
    "from IPython.display import HTML\n",
    "HTML('<img src=\"quicker.gif\">')"
   ]
  },
  {
   "cell_type": "code",
   "execution_count": null,
   "metadata": {},
   "outputs": [],
   "source": []
  },
  {
   "cell_type": "code",
   "execution_count": null,
   "metadata": {},
   "outputs": [],
   "source": []
  },
  {
   "cell_type": "code",
   "execution_count": null,
   "metadata": {},
   "outputs": [],
   "source": []
  },
  {
   "cell_type": "code",
   "execution_count": null,
   "metadata": {},
   "outputs": [],
   "source": []
  },
  {
   "cell_type": "code",
   "execution_count": null,
   "metadata": {},
   "outputs": [],
   "source": []
  },
  {
   "cell_type": "code",
   "execution_count": null,
   "metadata": {},
   "outputs": [],
   "source": []
  },
  {
   "cell_type": "code",
   "execution_count": null,
   "metadata": {},
   "outputs": [],
   "source": []
  },
  {
   "cell_type": "code",
   "execution_count": null,
   "metadata": {},
   "outputs": [],
   "source": []
  },
  {
   "cell_type": "code",
   "execution_count": null,
   "metadata": {},
   "outputs": [],
   "source": []
  },
  {
   "cell_type": "code",
   "execution_count": null,
   "metadata": {},
   "outputs": [],
   "source": []
  },
  {
   "cell_type": "code",
   "execution_count": null,
   "metadata": {},
   "outputs": [],
   "source": []
  },
  {
   "cell_type": "code",
   "execution_count": null,
   "metadata": {},
   "outputs": [],
   "source": []
  },
  {
   "cell_type": "code",
   "execution_count": null,
   "metadata": {},
   "outputs": [],
   "source": []
  },
  {
   "cell_type": "code",
   "execution_count": null,
   "metadata": {},
   "outputs": [],
   "source": []
  }
 ],
 "metadata": {
  "kernelspec": {
   "display_name": "Python 3",
   "language": "python",
   "name": "python3"
  },
  "language_info": {
   "codemirror_mode": {
    "name": "ipython",
    "version": 3
   },
   "file_extension": ".py",
   "mimetype": "text/x-python",
   "name": "python",
   "nbconvert_exporter": "python",
   "pygments_lexer": "ipython3",
   "version": "3.7.1"
  }
 },
 "nbformat": 4,
 "nbformat_minor": 2
}
